{
 "cells": [
  {
   "cell_type": "code",
   "execution_count": null,
   "metadata": {},
   "outputs": [],
   "source": [
    "from cluster_based_sisso import PrimarySpaceParams,DerivedSpaceParams,MyKmeans,MyDeepAA,MySisso,Repr2Members,ExecutionType\n",
    "from copy import copy\n",
    "\n",
    "data_csvpath = \"./data/cluster_based_sisso/cubic_perovskites.csv\"\n",
    "interm_results_path = None\n",
    "\n",
    "basic_params = PrimarySpaceParams(data_csvpath,\"lat\").deterministic()\n",
    "primary_space_params = copy(basic_params)\n",
    "derived_space_params = DerivedSpaceParams(**basic_params._asdict())\n",
    "sisso_exe_params = copy(derived_space_params)\n",
    "\n",
    "kmeans_prim_30 = MyKmeans(primary_space_params,30)\n",
    "kmeans_der_30 = MyKmeans(derived_space_params,30)\n",
    "deppaa_5 = MyDeepAA(primary_space_params,1,1,1,1,4,500)\n",
    "\n",
    "ssisso_km_prim_30 = MySisso(sisso_exe_params,kmeans_prim_30,\"singletask_on_representatives\")\n",
    "msisso_km_der_30 = MySisso(sisso_exe_params,kmeans_der_30,\"multitask_on_all\")\n",
    "ssisso_deepaa_5 = MySisso(sisso_exe_params,deppaa_5,\"singletask_on_representatives\")"
   ]
  }
 ],
 "metadata": {
  "kernelspec": {
   "display_name": "Python 3",
   "language": "python",
   "name": "python3"
  },
  "language_info": {
   "codemirror_mode": {
    "name": "ipython",
    "version": 3
   },
   "file_extension": ".py",
   "mimetype": "text/x-python",
   "name": "python",
   "nbconvert_exporter": "python",
   "pygments_lexer": "ipython3",
   "version": "3.7.4"
  }
 },
 "nbformat": 4,
 "nbformat_minor": 2
}
